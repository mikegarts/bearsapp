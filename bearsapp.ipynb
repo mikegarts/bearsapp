{
 "cells": [
  {
   "cell_type": "code",
   "execution_count": null,
   "id": "1ceb3495-4e36-4735-a4e3-9d06ae096313",
   "metadata": {
    "gradient": {
     "editing": false,
     "execution_count": 14,
     "id": "1ceb3495-4e36-4735-a4e3-9d06ae096313",
     "kernelId": "7d3b46c5-82ba-433e-997e-48e17470dc6a",
     "source_hidden": false
    }
   },
   "outputs": [],
   "source": [
    "from fastai.vision.all import *\n",
    "from fastai.vision.widgets import *\n",
    "from pathlib import Path"
   ]
  },
  {
   "cell_type": "code",
   "execution_count": null,
   "id": "87e05ea9-ef84-4372-9c50-81508ca02c9e",
   "metadata": {
    "gradient": {
     "editing": false,
     "execution_count": 15,
     "id": "87e05ea9-ef84-4372-9c50-81508ca02c9e",
     "kernelId": "7d3b46c5-82ba-433e-997e-48e17470dc6a",
     "source_hidden": false
    }
   },
   "outputs": [],
   "source": [
    "path = Path()\n",
    "learn_inf = load_learner(path/'bears.pkl', cpu=True)\n",
    "btn_upload = widgets.FileUpload()\n",
    "out_pl = widgets.Output()\n",
    "lbl_pred = widgets.Label()\n",
    "\n",
    "def on_data_change(change):\n",
    "    lbl_pred.value = ''\n",
    "    img = PILImage.create(btn_upload.data[-1])\n",
    "    out_pl.clear_output()\n",
    "    with out_pl: display(img.to_thumb(128,128))\n",
    "    pred,pred_idx,probs = learn_inf.predict(img)\n",
    "    lbl_pred.value = f'Prediction: {pred}; Probability: {probs[pred_idx]:.04f}'\n",
    "    \n",
    "btn_upload.observe(on_data_change, names=['data'])\n",
    "\n",
    "display(VBox([widgets.Label('Select your bear!'), btn_upload, out_pl, lbl_pred]))\n",
    "\n"
   ]
  },
  {
   "cell_type": "code",
   "execution_count": null,
   "id": "b0333a84",
   "metadata": {
    "gradient": {
     "editing": false,
     "id": "b0333a84",
     "kernelId": "7d3b46c5-82ba-433e-997e-48e17470dc6a"
    }
   },
   "outputs": [],
   "source": []
  }
 ],
 "metadata": {
  "kernelspec": {
   "display_name": "Python 3 (ipykernel)",
   "language": "python",
   "name": "python3"
  },
  "language_info": {
   "codemirror_mode": {
    "name": "ipython",
    "version": 3
   },
   "file_extension": ".py",
   "mimetype": "text/x-python",
   "name": "python",
   "nbconvert_exporter": "python",
   "pygments_lexer": "ipython3",
   "version": "3.7.11"
  }
 },
 "nbformat": 4,
 "nbformat_minor": 5
}
