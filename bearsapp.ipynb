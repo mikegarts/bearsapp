{
 "cells": [
  {
   "cell_type": "code",
   "execution_count": null,
   "id": "9dffaab1",
   "metadata": {
    "gradient": {
     "editing": false,
     "execution_count": 7,
     "id": "9dffaab1",
     "kernelId": "7fb6d827-3402-4e33-9c0d-840fd8d0fdd2"
    }
   },
   "outputs": [
    {
     "name": "stdout",
     "output_type": "stream",
     "text": [
      "Requirement already satisfied: voila in /opt/conda/lib/python3.7/site-packages (0.3.1)\r\n",
      "Requirement already satisfied: nbclient<0.6,>=0.4.0 in /opt/conda/lib/python3.7/site-packages (from voila) (0.5.11)\r\n",
      "Requirement already satisfied: nbconvert<7,>=6.0.0 in /opt/conda/lib/python3.7/site-packages (from voila) (6.4.2)\r\n",
      "Requirement already satisfied: websockets>=9.0 in /opt/conda/lib/python3.7/site-packages (from voila) (10.2)\r\n",
      "Requirement already satisfied: traitlets<6,>=5.0.3 in /opt/conda/lib/python3.7/site-packages (from voila) (5.1.0)\r\n",
      "Requirement already satisfied: jupyter-server<2.0.0,>=0.3.0 in /opt/conda/lib/python3.7/site-packages (from voila) (1.13.5)\r\n",
      "Requirement already satisfied: jupyter-client<8,>=6.1.3 in /opt/conda/lib/python3.7/site-packages (from voila) (6.1.12)\r\n",
      "Requirement already satisfied: tornado>=4.1 in /opt/conda/lib/python3.7/site-packages (from jupyter-client<8,>=6.1.3->voila) (6.1)\r\n",
      "Requirement already satisfied: python-dateutil>=2.1 in /opt/conda/lib/python3.7/site-packages (from jupyter-client<8,>=6.1.3->voila) (2.8.2)\r\n",
      "Requirement already satisfied: jupyter-core>=4.6.0 in /opt/conda/lib/python3.7/site-packages (from jupyter-client<8,>=6.1.3->voila) (4.9.1)\r\n",
      "Requirement already satisfied: pyzmq>=13 in /opt/conda/lib/python3.7/site-packages (from jupyter-client<8,>=6.1.3->voila) (22.3.0)\r\n"
     ]
    },
    {
     "name": "stdout",
     "output_type": "stream",
     "text": [
      "Requirement already satisfied: Send2Trash in /opt/conda/lib/python3.7/site-packages (from jupyter-server<2.0.0,>=0.3.0->voila) (1.8.0)\r\n",
      "Requirement already satisfied: packaging in /opt/conda/lib/python3.7/site-packages (from jupyter-server<2.0.0,>=0.3.0->voila) (21.2)\r\n",
      "Requirement already satisfied: anyio<4,>=3.1.0 in /opt/conda/lib/python3.7/site-packages (from jupyter-server<2.0.0,>=0.3.0->voila) (3.5.0)\r\n",
      "Requirement already satisfied: jinja2 in /opt/conda/lib/python3.7/site-packages (from jupyter-server<2.0.0,>=0.3.0->voila) (2.11.3)\r\n",
      "Requirement already satisfied: websocket-client in /opt/conda/lib/python3.7/site-packages (from jupyter-server<2.0.0,>=0.3.0->voila) (1.2.1)\r\n",
      "Requirement already satisfied: nbformat in /opt/conda/lib/python3.7/site-packages (from jupyter-server<2.0.0,>=0.3.0->voila) (5.1.3)\r\n",
      "Requirement already satisfied: ipython-genutils in /opt/conda/lib/python3.7/site-packages (from jupyter-server<2.0.0,>=0.3.0->voila) (0.2.0)\r\n",
      "Requirement already satisfied: prometheus-client in /opt/conda/lib/python3.7/site-packages (from jupyter-server<2.0.0,>=0.3.0->voila) (0.12.0)\r\n",
      "Requirement already satisfied: terminado>=0.8.3 in /opt/conda/lib/python3.7/site-packages (from jupyter-server<2.0.0,>=0.3.0->voila) (0.12.1)\r\n",
      "Requirement already satisfied: argon2-cffi in /opt/conda/lib/python3.7/site-packages (from jupyter-server<2.0.0,>=0.3.0->voila) (21.1.0)\r\n"
     ]
    },
    {
     "name": "stdout",
     "output_type": "stream",
     "text": [
      "Requirement already satisfied: typing-extensions in /opt/conda/lib/python3.7/site-packages (from anyio<4,>=3.1.0->jupyter-server<2.0.0,>=0.3.0->voila) (3.10.0.2)\r\n",
      "Requirement already satisfied: idna>=2.8 in /opt/conda/lib/python3.7/site-packages (from anyio<4,>=3.1.0->jupyter-server<2.0.0,>=0.3.0->voila) (2.10)\r\n",
      "Requirement already satisfied: sniffio>=1.1 in /opt/conda/lib/python3.7/site-packages (from anyio<4,>=3.1.0->jupyter-server<2.0.0,>=0.3.0->voila) (1.2.0)\r\n",
      "Requirement already satisfied: nest-asyncio in /opt/conda/lib/python3.7/site-packages (from nbclient<0.6,>=0.4.0->voila) (1.5.4)\r\n"
     ]
    },
    {
     "name": "stdout",
     "output_type": "stream",
     "text": [
      "Requirement already satisfied: entrypoints>=0.2.2 in /opt/conda/lib/python3.7/site-packages (from nbconvert<7,>=6.0.0->voila) (0.3)\r\n",
      "Requirement already satisfied: testpath in /opt/conda/lib/python3.7/site-packages (from nbconvert<7,>=6.0.0->voila) (0.5.0)\r\n",
      "Requirement already satisfied: pandocfilters>=1.4.1 in /opt/conda/lib/python3.7/site-packages (from nbconvert<7,>=6.0.0->voila) (1.5.0)\r\n",
      "Requirement already satisfied: mistune<2,>=0.8.1 in /opt/conda/lib/python3.7/site-packages (from nbconvert<7,>=6.0.0->voila) (0.8.4)\r\n",
      "Requirement already satisfied: bleach in /opt/conda/lib/python3.7/site-packages (from nbconvert<7,>=6.0.0->voila) (4.1.0)\r\n",
      "Requirement already satisfied: defusedxml in /opt/conda/lib/python3.7/site-packages (from nbconvert<7,>=6.0.0->voila) (0.7.1)\r\n",
      "Requirement already satisfied: jupyterlab-pygments in /opt/conda/lib/python3.7/site-packages (from nbconvert<7,>=6.0.0->voila) (0.1.2)\r\n",
      "Requirement already satisfied: pygments>=2.4.1 in /opt/conda/lib/python3.7/site-packages (from nbconvert<7,>=6.0.0->voila) (2.10.0)\r\n",
      "Requirement already satisfied: MarkupSafe>=0.23 in /opt/conda/lib/python3.7/site-packages (from jinja2->jupyter-server<2.0.0,>=0.3.0->voila) (2.0.1)\r\n",
      "Requirement already satisfied: jsonschema!=2.5.0,>=2.4 in /opt/conda/lib/python3.7/site-packages (from nbformat->jupyter-server<2.0.0,>=0.3.0->voila) (3.2.0)\r\n"
     ]
    },
    {
     "name": "stdout",
     "output_type": "stream",
     "text": [
      "Requirement already satisfied: importlib-metadata in /opt/conda/lib/python3.7/site-packages (from jsonschema!=2.5.0,>=2.4->nbformat->jupyter-server<2.0.0,>=0.3.0->voila) (4.8.2)\r\n",
      "Requirement already satisfied: setuptools in /opt/conda/lib/python3.7/site-packages (from jsonschema!=2.5.0,>=2.4->nbformat->jupyter-server<2.0.0,>=0.3.0->voila) (58.0.4)\r\n",
      "Requirement already satisfied: six>=1.11.0 in /opt/conda/lib/python3.7/site-packages (from jsonschema!=2.5.0,>=2.4->nbformat->jupyter-server<2.0.0,>=0.3.0->voila) (1.16.0)\r\n",
      "Requirement already satisfied: attrs>=17.4.0 in /opt/conda/lib/python3.7/site-packages (from jsonschema!=2.5.0,>=2.4->nbformat->jupyter-server<2.0.0,>=0.3.0->voila) (21.2.0)\r\n",
      "Requirement already satisfied: pyrsistent>=0.14.0 in /opt/conda/lib/python3.7/site-packages (from jsonschema!=2.5.0,>=2.4->nbformat->jupyter-server<2.0.0,>=0.3.0->voila) (0.18.0)\r\n"
     ]
    },
    {
     "name": "stdout",
     "output_type": "stream",
     "text": [
      "Requirement already satisfied: ptyprocess in /opt/conda/lib/python3.7/site-packages (from terminado>=0.8.3->jupyter-server<2.0.0,>=0.3.0->voila) (0.7.0)\r\n",
      "Requirement already satisfied: cffi>=1.0.0 in /opt/conda/lib/python3.7/site-packages (from argon2-cffi->jupyter-server<2.0.0,>=0.3.0->voila) (1.14.6)\r\n",
      "Requirement already satisfied: pycparser in /opt/conda/lib/python3.7/site-packages (from cffi>=1.0.0->argon2-cffi->jupyter-server<2.0.0,>=0.3.0->voila) (2.20)\r\n"
     ]
    },
    {
     "name": "stdout",
     "output_type": "stream",
     "text": [
      "Requirement already satisfied: webencodings in /opt/conda/lib/python3.7/site-packages (from bleach->nbconvert<7,>=6.0.0->voila) (0.5.1)\r\n",
      "Requirement already satisfied: zipp>=0.5 in /opt/conda/lib/python3.7/site-packages (from importlib-metadata->jsonschema!=2.5.0,>=2.4->nbformat->jupyter-server<2.0.0,>=0.3.0->voila) (3.6.0)\r\n"
     ]
    },
    {
     "name": "stdout",
     "output_type": "stream",
     "text": [
      "Requirement already satisfied: pyparsing<3,>=2.0.2 in /opt/conda/lib/python3.7/site-packages (from packaging->jupyter-server<2.0.0,>=0.3.0->voila) (2.4.7)\r\n"
     ]
    },
    {
     "name": "stdout",
     "output_type": "stream",
     "text": [
      "Enabling: voila\r\n",
      "- Writing config: /opt/conda/etc/jupyter\r\n",
      "    - Validating...\r\n"
     ]
    },
    {
     "name": "stdout",
     "output_type": "stream",
     "text": [
      "      voila 0.3.1 \u001b[32mOK\u001b[0m\r\n"
     ]
    }
   ],
   "source": [
    "!pip install voila\n",
    "!jupyter serverextension enable --sys-prefix voila\n"
   ]
  },
  {
   "cell_type": "code",
   "execution_count": null,
   "id": "1ceb3495-4e36-4735-a4e3-9d06ae096313",
   "metadata": {
    "collapsed": false,
    "gradient": {
     "editing": false,
     "execution_count": 8,
     "id": "1ceb3495-4e36-4735-a4e3-9d06ae096313",
     "kernelId": "7fb6d827-3402-4e33-9c0d-840fd8d0fdd2",
     "source_hidden": false
    }
   },
   "outputs": [],
   "source": [
    "from fastai.vision.all import *\n",
    "from fastai.vision.widgets import *\n",
    "from pathlib import Path"
   ]
  },
  {
   "cell_type": "code",
   "execution_count": null,
   "id": "234251af",
   "metadata": {
    "gradient": {
     "editing": false,
     "execution_count": 9,
     "id": "234251af",
     "kernelId": "7fb6d827-3402-4e33-9c0d-840fd8d0fdd2"
    }
   },
   "outputs": [
    {
     "data": {
      "application/vnd.jupyter.widget-view+json": {
       "model_id": "beb26677735b4f4787d15d2fd6489393",
       "version_major": 2,
       "version_minor": 0
      },
      "text/plain": [
       "VBox(children=(Label(value='Select your bear!'), FileUpload(value={}, description='Upload'), Output(), Label(v…"
      ]
     },
     "metadata": {},
     "output_type": "display_data",
     "transient": {}
    }
   ],
   "source": [
    "path = Path()\n",
    "learn_inf = load_learner(path/'bears.pkl', cpu=True)\n",
    "btn_upload = widgets.FileUpload()\n",
    "out_pl = widgets.Output()\n",
    "lbl_pred = widgets.Label()\n",
    "\n",
    "def on_data_change(change):\n",
    "    lbl_pred.value = ''\n",
    "    img = PILImage.create(btn_upload.data[-1])\n",
    "    out_pl.clear_output()\n",
    "    with out_pl: display(img.to_thumb(128,128))\n",
    "    pred,pred_idx,probs = learn_inf.predict(img)\n",
    "    lbl_pred.value = f'Prediction: {pred}; Probability: {probs[pred_idx]:.04f}'\n",
    "    \n",
    "btn_upload.observe(on_data_change, names=['data'])\n",
    "\n",
    "display(VBox([widgets.Label('Select your bear!'), btn_upload, out_pl, lbl_pred]))"
   ]
  },
  {
   "cell_type": "code",
   "execution_count": null,
   "id": "1bd310a1-2482-491f-9ef2-21498046211a",
   "metadata": {
    "collapsed": false,
    "gradient": {
     "editing": false,
     "id": "1bd310a1-2482-491f-9ef2-21498046211a",
     "kernelId": "7fb6d827-3402-4e33-9c0d-840fd8d0fdd2",
     "source_hidden": false
    }
   },
   "outputs": [],
   "source": []
  }
 ],
 "metadata": {
  "kernelspec": {
   "display_name": "Python 3 (ipykernel)",
   "language": "python",
   "name": "python3"
  },
  "language_info": {
   "codemirror_mode": {
    "name": "ipython",
    "version": 3
   },
   "file_extension": ".py",
   "mimetype": "text/x-python",
   "name": "python",
   "nbconvert_exporter": "python",
   "pygments_lexer": "ipython3",
   "version": "3.7.11"
  }
 },
 "nbformat": 4,
 "nbformat_minor": 5
}
