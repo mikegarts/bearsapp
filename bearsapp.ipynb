{
 "cells": [
  {
   "cell_type": "code",
   "execution_count": null,
   "id": "9dffaab1",
   "metadata": {
    "gradient": {
     "editing": false,
     "id": "9dffaab1",
     "kernelId": "7d3b46c5-82ba-433e-997e-48e17470dc6a"
    }
   },
   "outputs": [],
   "source": [
    "!pip install voila\n",
    "!pip install fastai\n",
    "!jupyter serverextension enable --sys-prefix voila\n"
   ]
  },
  {
   "cell_type": "code",
   "execution_count": null,
   "id": "1ceb3495-4e36-4735-a4e3-9d06ae096313",
   "metadata": {
    "gradient": {
     "editing": false,
     "id": "1ceb3495-4e36-4735-a4e3-9d06ae096313",
     "kernelId": "7d3b46c5-82ba-433e-997e-48e17470dc6a",
     "source_hidden": false
    }
   },
   "outputs": [],
   "source": [
    "from fastai.vision.all import *\n",
    "from fastai.vision.widgets import *\n",
    "from pathlib import Path"
   ]
  },
  {
   "cell_type": "code",
   "execution_count": 7,
   "id": "234251af",
   "metadata": {
    "gradient": {
     "editing": true,
     "id": "234251af",
     "kernelId": "7d3b46c5-82ba-433e-997e-48e17470dc6a"
    }
   },
   "outputs": [
    {
     "data": {
      "application/vnd.jupyter.widget-view+json": {
       "model_id": "c4c535402d3545c9b65e3d2faba64d4f",
       "version_major": 2,
       "version_minor": 0
      },
      "text/plain": [
       "VBox(children=(Label(value='Select your bear!'), FileUpload(value={}, description='Upload'), Output(), Label(v…"
      ]
     },
     "metadata": {},
     "output_type": "display_data"
    }
   ],
   "source": [
    "path = Path()\n",
    "learn_inf = load_learner(path/'bears.pkl', cpu=True)\n",
    "btn_upload = widgets.FileUpload()\n",
    "out_pl = widgets.Output()\n",
    "lbl_pred = widgets.Label()\n",
    "\n",
    "def on_data_change(change):\n",
    "    lbl_pred.value = ''\n",
    "    img = PILImage.create(btn_upload.data[-1])\n",
    "    out_pl.clear_output()\n",
    "    with out_pl: display(img.to_thumb(128,128))\n",
    "    pred,pred_idx,probs = learn_inf.predict(img)\n",
    "    lbl_pred.value = f'Prediction: {pred}; Probability: {probs[pred_idx]:.04f}'\n",
    "    \n",
    "btn_upload.observe(on_data_change, names=['data'])\n",
    "\n",
    "display(VBox([widgets.Label('Select your bear!'), btn_upload, out_pl, lbl_pred]))"
   ]
  }
 ],
 "metadata": {
  "kernelspec": {
   "display_name": "Python 3 (ipykernel)",
   "language": "python",
   "name": "python3"
  },
  "language_info": {
   "codemirror_mode": {
    "name": "ipython",
    "version": 3
   },
   "file_extension": ".py",
   "mimetype": "text/x-python",
   "name": "python",
   "nbconvert_exporter": "python",
   "pygments_lexer": "ipython3",
   "version": "3.7.11"
  }
 },
 "nbformat": 4,
 "nbformat_minor": 5
}
